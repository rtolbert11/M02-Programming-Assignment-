{
 "cells": [
  {
   "cell_type": "markdown",
   "id": "99490de5-16ce-4ceb-9087-eb596ea13853",
   "metadata": {},
   "source": [
    "4.1 Choose a number between 1 and 10 and assign it to the variable secret. Then, select another number between 1 and 10 and assign it to the variable guess. Next, write the conditional tests (if, else, and elif) to print the string 'too low' if guess is less than secret, 'too high' if greater than secret, and 'just right' if equal to secret."
   ]
  },
  {
   "cell_type": "code",
   "execution_count": 2,
   "id": "1b64b88e-ac00-48b3-8ba8-f1411e693f08",
   "metadata": {},
   "outputs": [],
   "source": [
    "import random"
   ]
  },
  {
   "cell_type": "markdown",
   "id": "4f6d1667-319d-4c24-9431-83aa6b72bc05",
   "metadata": {},
   "source": [
    "#Generate the secret and guess values between 1 and 10"
   ]
  },
  {
   "cell_type": "code",
   "execution_count": 3,
   "id": "87111dd0-73be-4129-aad7-ec382cf35543",
   "metadata": {},
   "outputs": [],
   "source": [
    "secret = random.randint(1,10)\n",
    "guess = random.randint(1,10)"
   ]
  },
  {
   "cell_type": "markdown",
   "id": "fd63cec9-05d9-41fa-9544-c3d79e310343",
   "metadata": {},
   "source": [
    "#Print the values of Guess and Secret"
   ]
  },
  {
   "cell_type": "code",
   "execution_count": 4,
   "id": "458ad001-cba3-49b1-a908-bd2513860beb",
   "metadata": {},
   "outputs": [
    {
     "name": "stdout",
     "output_type": "stream",
     "text": [
      "Guess value is =  8\n",
      "Secret value is =  5\n"
     ]
    }
   ],
   "source": [
    "print(\"Guess value is = \", guess)\n",
    "print(\"Secret value is = \", secret)"
   ]
  },
  {
   "cell_type": "markdown",
   "id": "5a3fd0cb-f475-460b-84cc-b4d6b836879a",
   "metadata": {},
   "source": [
    "#Now, check if the guess is less than secret then print 'too low!'..."
   ]
  },
  {
   "cell_type": "code",
   "execution_count": 8,
   "id": "512e4734-9642-4026-b396-98467e91a2db",
   "metadata": {},
   "outputs": [],
   "source": [
    "if guess < secret:\n",
    "    print(\"too low!\")"
   ]
  },
  {
   "cell_type": "markdown",
   "id": "de50ec1f-8c52-482b-bbea-9e926fa84e41",
   "metadata": {},
   "source": [
    "#Check if the guess is greater than secret then prints 'too high!\"..."
   ]
  },
  {
   "cell_type": "code",
   "execution_count": 7,
   "id": "8987732b-4d56-46f2-8785-be1390601851",
   "metadata": {},
   "outputs": [
    {
     "name": "stdout",
     "output_type": "stream",
     "text": [
      "too high!\n"
     ]
    }
   ],
   "source": [
    "if guess > secret:\n",
    "    print(\"too high!\")\n"
   ]
  },
  {
   "cell_type": "markdown",
   "id": "ca239f5a-cbb6-4933-8624-d0b77f99c98f",
   "metadata": {},
   "source": [
    "#Otherwise both values are the same so print 'just right!\"..."
   ]
  },
  {
   "cell_type": "code",
   "execution_count": 12,
   "id": "4c2085bc-675c-4d94-ace2-48d348f424f7",
   "metadata": {},
   "outputs": [],
   "source": [
    "if guess == secret:\n",
    "    print(\"just right!\")"
   ]
  },
  {
   "cell_type": "markdown",
   "id": "82c5d39e-3d50-4f43-be24-8e7675b7271b",
   "metadata": {},
   "source": [
    "4.2 Assign True or False to the variables small and green. Write some if/else statements to print which of these matches those choices: cherry, pea, watermelon, pumpkin."
   ]
  },
  {
   "cell_type": "code",
   "execution_count": 13,
   "id": "59587f84-7878-4c2d-be9a-4cd01f1e5827",
   "metadata": {},
   "outputs": [],
   "source": [
    "small = True \n",
    "green = False "
   ]
  },
  {
   "cell_type": "code",
   "execution_count": 14,
   "id": "0e674de1-6fc5-4e0a-981f-648199015758",
   "metadata": {},
   "outputs": [
    {
     "name": "stdout",
     "output_type": "stream",
     "text": [
      "cherry\n"
     ]
    }
   ],
   "source": [
    "if small and green:\n",
    "    print('pea')\n",
    "elif small and not green:\n",
    "    print('cherry')\n",
    "elif not small and green:\n",
    "    print('watermelon')\n",
    "elif not small and not green:\n",
    "    print('pumpkin')"
   ]
  },
  {
   "cell_type": "markdown",
   "id": "83d7e0e4-f6af-445e-be04-b81d2ca4cee1",
   "metadata": {},
   "source": [
    "6.1 Use a for loop to print the values of the list [3, 2, 1, 0]."
   ]
  },
  {
   "cell_type": "markdown",
   "id": "8f28fc70-8280-4587-9095-0b10fc85e939",
   "metadata": {},
   "source": [
    "#Define the list "
   ]
  },
  {
   "cell_type": "code",
   "execution_count": 15,
   "id": "8c8ccec2-fbb0-42e1-bf8c-0e8dbf35e9e5",
   "metadata": {},
   "outputs": [],
   "source": [
    "my_list = [3, 2, 1, 0]"
   ]
  },
  {
   "cell_type": "markdown",
   "id": "335d7a01-5a77-436b-812f-822d28b30aea",
   "metadata": {},
   "source": [
    "#Use for a loop to iterate through the list "
   ]
  },
  {
   "cell_type": "code",
   "execution_count": 16,
   "id": "84bad1e0-0eb9-4f6c-8f6a-2a0add498a15",
   "metadata": {},
   "outputs": [
    {
     "name": "stdout",
     "output_type": "stream",
     "text": [
      "3\n",
      "2\n",
      "1\n",
      "0\n"
     ]
    }
   ],
   "source": [
    "for item in my_list:\n",
    "    print(item)"
   ]
  },
  {
   "cell_type": "markdown",
   "id": "0a8a6479-01c3-4eb5-868b-604b7920d129",
   "metadata": {},
   "source": [
    "6.2 Assign the value 7 to the variable guess_me, and the value 1 to the variable number. Write a while loop that compares number with guess_me. Print 'too low' if number is less than guess me. If number equals guess_me, print 'found it!' and then exit the loop. If number is greater than guess_me, print 'oops' and then exit the loop. Increment number at the end of the loop."
   ]
  },
  {
   "cell_type": "code",
   "execution_count": 18,
   "id": "a32411d6-c7ff-4a26-b91d-4c61049a5f20",
   "metadata": {},
   "outputs": [],
   "source": [
    "guess_me = 7\n",
    "number = 1"
   ]
  },
  {
   "cell_type": "markdown",
   "id": "de73f270-38f8-4579-9b8d-f6c5e753a07c",
   "metadata": {},
   "source": [
    "while True: # use an infinite loop "
   ]
  },
  {
   "cell_type": "code",
   "execution_count": 19,
   "id": "039b0712-fbcb-4a28-82ba-aae4774eab17",
   "metadata": {},
   "outputs": [
    {
     "name": "stdout",
     "output_type": "stream",
     "text": [
      "too low\n"
     ]
    }
   ],
   "source": [
    "if number < guess_me:\n",
    "    print('too low')\n",
    "elif number == guess_me:\n",
    "    print('found it')\n",
    "else:\n",
    "    print('oops')\n",
    "number = number + 1"
   ]
  },
  {
   "cell_type": "markdown",
   "id": "fa2546a1-5ea7-4ce0-bcf1-c70c856628f2",
   "metadata": {},
   "source": [
    "6.3 Assign the value 5 to the variable guess_me. Use a for loop to iterate a variable called number over range(10). If number is less than guess_me, print 'too low'. If it equals guess_me, print found it! and then break out of the for loop. If number is greater than guess_me, print 'oops' and then exit the loop."
   ]
  },
  {
   "cell_type": "code",
   "execution_count": 20,
   "id": "6a1a1b02-9449-4894-93e5-f5c6698566fb",
   "metadata": {},
   "outputs": [
    {
     "name": "stdout",
     "output_type": "stream",
     "text": [
      "too low\n",
      "too low\n",
      "too low\n",
      "too low\n",
      "too low\n",
      "found it\n"
     ]
    }
   ],
   "source": [
    "guess_me = 5\n",
    "for number in range(10):\n",
    "    if number < guess_me:\n",
    "        print('too low')\n",
    "    elif number == guess_me:\n",
    "        print('found it')\n",
    "        break \n",
    "    else:\n",
    "        print('oops')\n",
    "    "
   ]
  },
  {
   "cell_type": "code",
   "execution_count": null,
   "id": "a97b34f6-66d9-4e1f-8466-68f5ed5f8eb2",
   "metadata": {},
   "outputs": [],
   "source": []
  }
 ],
 "metadata": {
  "kernelspec": {
   "display_name": "Python 3 (ipykernel)",
   "language": "python",
   "name": "python3"
  },
  "language_info": {
   "codemirror_mode": {
    "name": "ipython",
    "version": 3
   },
   "file_extension": ".py",
   "mimetype": "text/x-python",
   "name": "python",
   "nbconvert_exporter": "python",
   "pygments_lexer": "ipython3",
   "version": "3.11.7"
  }
 },
 "nbformat": 4,
 "nbformat_minor": 5
}
